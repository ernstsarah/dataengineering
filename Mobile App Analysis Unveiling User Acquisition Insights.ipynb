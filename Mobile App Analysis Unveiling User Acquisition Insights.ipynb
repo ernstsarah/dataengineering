{
 "cells": [
  {
   "cell_type": "markdown",
   "metadata": {},
   "source": [
    "# Analyzing Mobile App Data: Unveiling Insights for User Acquisition\n",
    "## Introduction\n",
    "\n",
    "The analysis aims to uncover the factors driving user engagement in our Android and iOS mobile apps. By understanding these factors, we can optimize app development strategies and enhance user acquisition, leading to increased revenue from in-app advertisements.\n",
    "\n",
    "The approach involves analyzing data from the Google Play Store and Apple App Store datasets, exploring the datasets, performing data cleaning, identifying popular app genres, and analyzing user ratings and reviews. We will also examine the relationship between app categories and user installs.\n",
    "\n",
    "#### Summary of results\n",
    "\n",
    "A key finding is the disparity in the most common app genres between the Google Play Store and the Apple App Store. Gaming apps dominate the App Store, while the Google Play Store showcases a more diverse range of practical and entertainment-focused genres. This highlights the importance of tailoring app development and marketing strategies for each platform to maximize user engagement and revenue potential."
   ]
  },
  {
   "cell_type": "markdown",
   "metadata": {},
   "source": [
    "#### Open both datasets and save as list of lists:"
   ]
  },
  {
   "cell_type": "code",
   "execution_count": 1,
   "metadata": {},
   "outputs": [],
   "source": [
    "from csv import reader\n",
    "\n",
    "\n",
    "opened_applestore = open('AppleStore.csv')\n",
    "read_applestore = reader(opened_applestore)\n",
    "#opened_applestore.close()\n",
    "applestore_data = list(read_applestore)\n",
    "\n",
    "\n",
    "opened_googleplay = open('googleplaystore.csv')\n",
    "from csv import reader\n",
    "read_googleplay = reader(opened_googleplay)\n",
    "#opened_googleplay.close()\n",
    "googleplay_data = list(read_googleplay)"
   ]
  },
  {
   "cell_type": "markdown",
   "metadata": {},
   "source": [
    "#### Define function to print rows in a readable way:"
   ]
  },
  {
   "cell_type": "code",
   "execution_count": 2,
   "metadata": {},
   "outputs": [],
   "source": [
    "def explore_data(dataset, start, end, rows_and_columns=False):\n",
    "    dataset_slice = dataset[start:end]    \n",
    "    for row in dataset_slice:\n",
    "        print(row)\n",
    "        print('\\n') # adds a new (empty) line after each row\n",
    "\n",
    "    if rows_and_columns:\n",
    "        print('Number of rows:', len(dataset))\n",
    "        print('Number of columns:', len(dataset[0]))"
   ]
  },
  {
   "cell_type": "markdown",
   "metadata": {},
   "source": [
    "#### Explore datasets with explore_data function (add True to get number of rows and columns of each dataset):"
   ]
  },
  {
   "cell_type": "code",
   "execution_count": 3,
   "metadata": {},
   "outputs": [
    {
     "name": "stdout",
     "output_type": "stream",
     "text": [
      "Googleplay excerpt with number of rows and columns:\n",
      "\n",
      "\n",
      "['App', 'Category', 'Rating', 'Reviews', 'Size', 'Installs', 'Type', 'Price', 'Content Rating', 'Genres', 'Last Updated', 'Current Ver', 'Android Ver']\n",
      "\n",
      "\n",
      "['Photo Editor & Candy Camera & Grid & ScrapBook', 'ART_AND_DESIGN', '4.1', '159', '19M', '10,000+', 'Free', '0', 'Everyone', 'Art & Design', 'January 7, 2018', '1.0.0', '4.0.3 and up']\n",
      "\n",
      "\n",
      "['Coloring book moana', 'ART_AND_DESIGN', '3.9', '967', '14M', '500,000+', 'Free', '0', 'Everyone', 'Art & Design;Pretend Play', 'January 15, 2018', '2.0.0', '4.0.3 and up']\n",
      "\n",
      "\n",
      "Number of rows: 10842\n",
      "Number of columns: 13\n",
      "\n",
      "\n",
      "Applestore excerpt with number of rows and columns:\n",
      "\n",
      "\n",
      "['id', 'track_name', 'size_bytes', 'currency', 'price', 'rating_count_tot', 'rating_count_ver', 'user_rating', 'user_rating_ver', 'ver', 'cont_rating', 'prime_genre', 'sup_devices.num', 'ipadSc_urls.num', 'lang.num', 'vpp_lic']\n",
      "\n",
      "\n",
      "['284882215', 'Facebook', '389879808', 'USD', '0.0', '2974676', '212', '3.5', '3.5', '95.0', '4+', 'Social Networking', '37', '1', '29', '1']\n",
      "\n",
      "\n",
      "['389801252', 'Instagram', '113954816', 'USD', '0.0', '2161558', '1289', '4.5', '4.0', '10.23', '12+', 'Photo & Video', '37', '0', '29', '1']\n",
      "\n",
      "\n",
      "Number of rows: 7198\n",
      "Number of columns: 16\n"
     ]
    }
   ],
   "source": [
    "print(\"Googleplay excerpt with number of rows and columns:\")\n",
    "print(\"\\n\")\n",
    "explore_data(googleplay_data, 0, 3, True)\n",
    "print(\"\\n\")\n",
    "print(\"Applestore excerpt with number of rows and columns:\")\n",
    "print(\"\\n\")\n",
    "explore_data(applestore_data, 0, 3, True)"
   ]
  },
  {
   "cell_type": "markdown",
   "metadata": {},
   "source": [
    "## Identifying helpful columns for analysis\n",
    "\n",
    "For the Googleplay Store, helpful columns are: Name(0), Category/ Genre (1), Reviews(3), Installs (5), Price or type (7)(6), Rating(2), Content Rating(8)\n",
    "\n",
    "see Documentation for details: [Playstore Documentation](https://www.kaggle.com/datasets/lava18/google-play-store-apps)\n",
    "\n",
    "For the Applestore: Category/ Genre(11), Rating (7), Price(4), \n",
    "\n",
    "see Documentation for details: [Applestore Documentation](https://www.kaggle.com/datasets/ramamet4/app-store-apple-data-set-10k-apps)\n"
   ]
  },
  {
   "cell_type": "code",
   "execution_count": 4,
   "metadata": {
    "scrolled": false
   },
   "outputs": [
    {
     "name": "stdout",
     "output_type": "stream",
     "text": [
      "['App', 'Category', 'Rating', 'Reviews', 'Size', 'Installs', 'Type', 'Price', 'Content Rating', 'Genres', 'Last Updated', 'Current Ver', 'Android Ver']\n",
      "\n",
      "\n",
      "['id', 'track_name', 'size_bytes', 'currency', 'price', 'rating_count_tot', 'rating_count_ver', 'user_rating', 'user_rating_ver', 'ver', 'cont_rating', 'prime_genre', 'sup_devices.num', 'ipadSc_urls.num', 'lang.num', 'vpp_lic']\n",
      "\n",
      "\n"
     ]
    }
   ],
   "source": [
    "explore_data(googleplay_data, 0, 1)\n",
    "explore_data(applestore_data, 0, 1)"
   ]
  },
  {
   "cell_type": "markdown",
   "metadata": {},
   "source": [
    "## Data cleaning\n",
    "\n",
    "* Determine and delete the index of a row with shorter length than usual (missing entries). Detected row: 10473\n"
   ]
  },
  {
   "cell_type": "code",
   "execution_count": 5,
   "metadata": {},
   "outputs": [
    {
     "name": "stdout",
     "output_type": "stream",
     "text": [
      "['Life Made WI-Fi Touchscreen Photo Frame', '1.9', '19', '3.0M', '1,000+', 'Free', '0', 'Everyone', '', 'February 11, 2018', '1.0.19', '4.0 and up']\n",
      "12\n",
      "13\n",
      "10473\n"
     ]
    }
   ],
   "source": [
    "header_length = len(googleplay_data[0])\n",
    "\n",
    "for row in googleplay_data:\n",
    "    if len(row) != header_length:\n",
    "    \n",
    "        print(row)\n",
    "        print(len(row))\n",
    "        print(header_length)\n",
    "        print(googleplay_data.index(row))"
   ]
  },
  {
   "cell_type": "code",
   "execution_count": 6,
   "metadata": {},
   "outputs": [
    {
     "name": "stdout",
     "output_type": "stream",
     "text": [
      "['Life Made WI-Fi Touchscreen Photo Frame', '1.9', '19', '3.0M', '1,000+', 'Free', '0', 'Everyone', '', 'February 11, 2018', '1.0.19', '4.0 and up']\n"
     ]
    }
   ],
   "source": [
    "print(googleplay_data[10473])"
   ]
  },
  {
   "cell_type": "code",
   "execution_count": 7,
   "metadata": {},
   "outputs": [],
   "source": [
    "del googleplay_data[10473]"
   ]
  },
  {
   "cell_type": "markdown",
   "metadata": {},
   "source": [
    "### Duplicate entries\n",
    "* The Google Play dataset consists of duplicate entries:"
   ]
  },
  {
   "cell_type": "code",
   "execution_count": 8,
   "metadata": {},
   "outputs": [
    {
     "name": "stdout",
     "output_type": "stream",
     "text": [
      "9660\n",
      "1181\n",
      "Duplicate app examples:  ['Quick PDF Scanner + OCR FREE', 'Box', 'Google My Business', 'ZOOM Cloud Meetings', 'join.me - Simple Meetings', 'Box', 'Zenefits', 'Google Ads', 'Google My Business', 'Slack']\n"
     ]
    }
   ],
   "source": [
    "total_apps = []\n",
    "duplicate_apps = []\n",
    "\n",
    "for app in googleplay_data:\n",
    "    name = app[0]\n",
    "    if name in total_apps:\n",
    "        duplicate_apps.append(name)      \n",
    "    else:\n",
    "        total_apps.append(name)\n",
    "        \n",
    "        \n",
    "print(len(total_apps))\n",
    "print(len(duplicate_apps))\n",
    "print(\"Duplicate app examples: \", duplicate_apps[:10])"
   ]
  },
  {
   "cell_type": "markdown",
   "metadata": {},
   "source": [
    "### Deletion process\n",
    "The newest version of the duplicate apps will be kept. To determine which of the app versions is the newest, we assume that it has the highest total rating count.\n",
    "\n",
    "Steps to remove the duplicates:\n",
    "* Create dictionary with app name as dictionary key and highest number of reviews as dictionary value"
   ]
  },
  {
   "cell_type": "code",
   "execution_count": 9,
   "metadata": {},
   "outputs": [
    {
     "name": "stdout",
     "output_type": "stream",
     "text": [
      "9659\n"
     ]
    }
   ],
   "source": [
    "reviews_max = {}\n",
    "\n",
    "for app in googleplay_data[1:]:\n",
    "    \n",
    "    name = app[0]\n",
    "    n_reviews = float(app[3])\n",
    "     \n",
    "    if name in reviews_max and n_reviews > reviews_max[name]:\n",
    "        \n",
    "        reviews_max[name] = n_reviews\n",
    "        \n",
    "        \n",
    "    elif name not in reviews_max:\n",
    "        \n",
    "        reviews_max[name] = n_reviews\n",
    "        \n",
    "print(len(reviews_max))\n",
    "#print(reviews_max)\n",
    "        \n",
    "\n",
    "        \n",
    "        \n",
    "    \n",
    "    "
   ]
  },
  {
   "cell_type": "markdown",
   "metadata": {},
   "source": [
    "#### Duplicate rows removal with dictionary reviews_max:"
   ]
  },
  {
   "cell_type": "code",
   "execution_count": 10,
   "metadata": {},
   "outputs": [
    {
     "name": "stdout",
     "output_type": "stream",
     "text": [
      "[['Photo Editor & Candy Camera & Grid & ScrapBook', 'ART_AND_DESIGN', '4.1', '159', '19M', '10,000+', 'Free', '0', 'Everyone', 'Art & Design', 'January 7, 2018', '1.0.0', '4.0.3 and up'], ['U Launcher Lite – FREE Live Cool Themes, Hide Apps', 'ART_AND_DESIGN', '4.7', '87510', '8.7M', '5,000,000+', 'Free', '0', 'Everyone', 'Art & Design', 'August 1, 2018', '1.2.4', '4.0.3 and up'], ['Sketch - Draw & Paint', 'ART_AND_DESIGN', '4.5', '215644', '25M', '50,000,000+', 'Free', '0', 'Teen', 'Art & Design', 'June 8, 2018', 'Varies with device', '4.2 and up'], ['Pixel Draw - Number Art Coloring Book', 'ART_AND_DESIGN', '4.3', '967', '2.8M', '100,000+', 'Free', '0', 'Everyone', 'Art & Design;Creativity', 'June 20, 2018', '1.1', '4.4 and up'], ['Paper flowers instructions', 'ART_AND_DESIGN', '4.4', '167', '5.6M', '50,000+', 'Free', '0', 'Everyone', 'Art & Design', 'March 26, 2017', '1.0', '2.3 and up']]\n",
      "9659\n"
     ]
    }
   ],
   "source": [
    "android_clean = []\n",
    "already_added = []\n",
    "\n",
    "for app in googleplay_data[1:]:\n",
    "    \n",
    "    name = app[0] \n",
    "    n_reviews = float(app[3])\n",
    "    \n",
    "    if n_reviews == reviews_max[name] and name not in already_added:\n",
    "        # second condition to account for duplicate entries \n",
    "        # with same review_max\n",
    "        \n",
    "        android_clean.append(app)\n",
    "        already_added.append(name)\n",
    "        \n",
    "print(android_clean[:5])\n",
    "print(len(android_clean))\n",
    "        "
   ]
  },
  {
   "cell_type": "markdown",
   "metadata": {},
   "source": [
    "### Removing Non-English Apps"
   ]
  },
  {
   "cell_type": "markdown",
   "metadata": {},
   "source": [
    "* Common English characters: 0 - 127 (ASCII)\n",
    "* Task: Write function to check a string for common English characters\n",
    "* Use it to remove non-English speaking apps"
   ]
  },
  {
   "cell_type": "code",
   "execution_count": 11,
   "metadata": {},
   "outputs": [
    {
     "name": "stdout",
     "output_type": "stream",
     "text": [
      "False\n",
      "True\n",
      "True\n",
      "True\n"
     ]
    }
   ],
   "source": [
    "def english_check(string):\n",
    "    \n",
    "    count = 0\n",
    "    \n",
    "    for letter in string:\n",
    "        if ord(letter) > 127:\n",
    "            count += 1\n",
    "            \n",
    "            if count > 3:\n",
    "                return False       \n",
    "    return True\n",
    "\n",
    "#Check function:           \n",
    "       \n",
    "print(english_check('爱奇艺PPS -《欢乐颂2》电视剧热播'))\n",
    "print(english_check('Docs To Go™ Free Office Suite'))\n",
    "print(english_check(\"Instagram\"))\n",
    "print(english_check('Instachat 😜'))"
   ]
  },
  {
   "cell_type": "markdown",
   "metadata": {},
   "source": [
    "Now the function can filter out non-English apps:"
   ]
  },
  {
   "cell_type": "code",
   "execution_count": 12,
   "metadata": {},
   "outputs": [
    {
     "name": "stdout",
     "output_type": "stream",
     "text": [
      "['U Launcher Lite – FREE Live Cool Themes, Hide Apps', 'ART_AND_DESIGN', '4.7', '87510', '8.7M', '5,000,000+', 'Free', '0', 'Everyone', 'Art & Design', 'August 1, 2018', '1.2.4', '4.0.3 and up']\n",
      "\n",
      "\n",
      "['Sketch - Draw & Paint', 'ART_AND_DESIGN', '4.5', '215644', '25M', '50,000,000+', 'Free', '0', 'Teen', 'Art & Design', 'June 8, 2018', 'Varies with device', '4.2 and up']\n",
      "\n",
      "\n",
      "Number of rows: 9613\n",
      "Number of columns: 13\n",
      "\n",
      "\n",
      "['284882215', 'Facebook', '389879808', 'USD', '0.0', '2974676', '212', '3.5', '3.5', '95.0', '4+', 'Social Networking', '37', '1', '29', '1']\n",
      "\n",
      "\n",
      "['389801252', 'Instagram', '113954816', 'USD', '0.0', '2161558', '1289', '4.5', '4.0', '10.23', '12+', 'Photo & Video', '37', '0', '29', '1']\n",
      "\n",
      "\n",
      "Number of rows: 6183\n",
      "Number of columns: 16\n"
     ]
    }
   ],
   "source": [
    "googleplay_english = []\n",
    "applestore_english = []\n",
    "\n",
    "\n",
    "for app in android_clean[1:]:\n",
    "    name = app[0]  \n",
    "    if english_check(name) == True:\n",
    "            googleplay_english.append(app)\n",
    "            \n",
    "for app in applestore_data[1:]:\n",
    "    name = app[1]      \n",
    "    if english_check(name) == True:  \n",
    "            applestore_english.append(app)            \n",
    "            \n",
    "explore_data(googleplay_english, 0, 2, True)\n",
    "print(\"\\n\")\n",
    "explore_data(applestore_english, 0, 2, True)"
   ]
  },
  {
   "cell_type": "markdown",
   "metadata": {},
   "source": [
    "We have 9613 english speaking googleplay apps and 6183 applestore apps. (The english speaking googleplay apps are clean from duplicates as well)"
   ]
  },
  {
   "cell_type": "markdown",
   "metadata": {},
   "source": [
    "### Isolating free from non-free apps:\n",
    "* Identify columns for app price\n",
    "* Loop through the googleplay and applestore datasets and add free apps to a separate list\n",
    "* Check length of free app datasets"
   ]
  },
  {
   "cell_type": "code",
   "execution_count": 13,
   "metadata": {},
   "outputs": [
    {
     "name": "stdout",
     "output_type": "stream",
     "text": [
      "['App', 'Category', 'Rating', 'Reviews', 'Size', 'Installs', 'Type', 'Price', 'Content Rating', 'Genres', 'Last Updated', 'Current Ver', 'Android Ver']\n",
      "\n",
      "\n",
      "['Photo Editor & Candy Camera & Grid & ScrapBook', 'ART_AND_DESIGN', '4.1', '159', '19M', '10,000+', 'Free', '0', 'Everyone', 'Art & Design', 'January 7, 2018', '1.0.0', '4.0.3 and up']\n",
      "\n",
      "\n",
      "['Coloring book moana', 'ART_AND_DESIGN', '3.9', '967', '14M', '500,000+', 'Free', '0', 'Everyone', 'Art & Design;Pretend Play', 'January 15, 2018', '2.0.0', '4.0.3 and up']\n",
      "\n",
      "\n",
      "\n",
      "\n",
      "['id', 'track_name', 'size_bytes', 'currency', 'price', 'rating_count_tot', 'rating_count_ver', 'user_rating', 'user_rating_ver', 'ver', 'cont_rating', 'prime_genre', 'sup_devices.num', 'ipadSc_urls.num', 'lang.num', 'vpp_lic']\n",
      "\n",
      "\n",
      "['284882215', 'Facebook', '389879808', 'USD', '0.0', '2974676', '212', '3.5', '3.5', '95.0', '4+', 'Social Networking', '37', '1', '29', '1']\n",
      "\n",
      "\n",
      "['389801252', 'Instagram', '113954816', 'USD', '0.0', '2161558', '1289', '4.5', '4.0', '10.23', '12+', 'Photo & Video', '37', '0', '29', '1']\n",
      "\n",
      "\n"
     ]
    }
   ],
   "source": [
    "explore_data(googleplay_data, 0, 3)\n",
    "print(\"\\n\")\n",
    "explore_data(applestore_data, 0, 3)"
   ]
  },
  {
   "cell_type": "markdown",
   "metadata": {},
   "source": [
    "* Googleplay app price column: 7\n",
    "* Applestore app price column: 4"
   ]
  },
  {
   "cell_type": "code",
   "execution_count": 14,
   "metadata": {},
   "outputs": [
    {
     "name": "stdout",
     "output_type": "stream",
     "text": [
      "Apps in googleplay_final: 8863\n",
      "Apps in googleplay_english: 9613\n",
      "\n",
      "\n",
      "Apps in applestore_final: 3222\n",
      "Apps in applestore_english: 6183\n"
     ]
    }
   ],
   "source": [
    "googleplay_final = []\n",
    "applestore_final = []\n",
    "\n",
    "for app in googleplay_english:\n",
    "    price_googleplay = app[7]\n",
    "    \n",
    "    if price_googleplay == \"0\":\n",
    "        googleplay_final.append(app)\n",
    "        \n",
    "print(\"Apps in googleplay_final: \" + str(len(googleplay_final)))\n",
    "print(\"Apps in googleplay_english: \" + str(len(googleplay_english)))\n",
    "print(\"\\n\")\n",
    "\n",
    "for app in applestore_english:\n",
    "    price_applestore = app[4]\n",
    "    \n",
    "    if price_applestore == \"0.0\":\n",
    "        applestore_final.append(app)\n",
    "        \n",
    "print(\"Apps in applestore_final: \" + str(len(applestore_final)))\n",
    "print(\"Apps in applestore_english: \" + str(len(applestore_english)))\n"
   ]
  },
  {
   "cell_type": "markdown",
   "metadata": {},
   "source": [
    "A significant amount of time was dedicated to data cleaning for our Google Play Store and Apple Store datasets. The cleaning process involved:\n",
    "\n",
    "* Removing inaccurate data\n",
    "* Eliminating duplicate app entries\n",
    "* Filtering out non-English apps\n",
    "* Isolating the free apps\n",
    "\n",
    "These steps resulted in refined datasets suitable for analysis.\n",
    "After filtering, we have a total of 8862 Android apps and 3222 iOS apps remaining, providing us with an adequate dataset for our analysis."
   ]
  },
  {
   "cell_type": "markdown",
   "metadata": {},
   "source": [
    "## Analysis: Most Common Apps by Genre"
   ]
  },
  {
   "cell_type": "markdown",
   "metadata": {},
   "source": [
    "Our objective is to find app profiles that can attract a significant user base, as our revenue is directly influenced by app popularity. To validate app ideas efficiently, we follow a three-step strategy:\n",
    "\n",
    "* Begin by launching a basic Android version of the app on Google Play and evaluate user response.\n",
    "* If the initial Android version garners positive feedback and engagement, we proceed with further development and enhancements.\n",
    "* After assessing profitability over a six-month period, we consider building an iOS version of the app for the App Store.\n",
    "\n",
    "Our aim is to identify app profiles that can thrive on both Google Play and the App Store. For our analysis, we will construct frequency tables to determine the most prevalent genres in each market."
   ]
  },
  {
   "cell_type": "markdown",
   "metadata": {},
   "source": [
    "#### Identifying suitable columns for frequency tables:"
   ]
  },
  {
   "cell_type": "code",
   "execution_count": 15,
   "metadata": {},
   "outputs": [
    {
     "name": "stdout",
     "output_type": "stream",
     "text": [
      "['App', 'Category', 'Rating', 'Reviews', 'Size', 'Installs', 'Type', 'Price', 'Content Rating', 'Genres', 'Last Updated', 'Current Ver', 'Android Ver']\n",
      "\n",
      "\n",
      "['Photo Editor & Candy Camera & Grid & ScrapBook', 'ART_AND_DESIGN', '4.1', '159', '19M', '10,000+', 'Free', '0', 'Everyone', 'Art & Design', 'January 7, 2018', '1.0.0', '4.0.3 and up']\n",
      "\n",
      "\n",
      "['id', 'track_name', 'size_bytes', 'currency', 'price', 'rating_count_tot', 'rating_count_ver', 'user_rating', 'user_rating_ver', 'ver', 'cont_rating', 'prime_genre', 'sup_devices.num', 'ipadSc_urls.num', 'lang.num', 'vpp_lic']\n",
      "\n",
      "\n",
      "['284882215', 'Facebook', '389879808', 'USD', '0.0', '2974676', '212', '3.5', '3.5', '95.0', '4+', 'Social Networking', '37', '1', '29', '1']\n",
      "\n",
      "\n"
     ]
    }
   ],
   "source": [
    "explore_data(googleplay_data, 0, 2)\n",
    "explore_data(applestore_data, 0,2)"
   ]
  },
  {
   "cell_type": "markdown",
   "metadata": {},
   "source": [
    "* Googleplay Store columns: Category(1), Genres(9)\n",
    "* Applestore columns: Prime Genre(11)"
   ]
  },
  {
   "cell_type": "markdown",
   "metadata": {},
   "source": [
    "##### Function to create frequency tables:"
   ]
  },
  {
   "cell_type": "code",
   "execution_count": 30,
   "metadata": {},
   "outputs": [],
   "source": [
    "def freq_table(dataset, index):\n",
    "    ftable = {}\n",
    "    \n",
    "    for app in dataset:\n",
    "        table_key = app[index]\n",
    "        \n",
    "        if table_key in ftable:\n",
    "            ftable[table_key] += 1\n",
    "        \n",
    "        else:\n",
    "            ftable[table_key] = 1\n",
    "            \n",
    "\n",
    "#In percentage:\n",
    "\n",
    "    table_percentages = {}\n",
    "    total = len(dataset)\n",
    "    for key in ftable:\n",
    "        percentage = (ftable[key] / total) * 100\n",
    "        table_percentages[key] = percentage \n",
    "    \n",
    "    return table_percentages\n",
    "    return ftable\n",
    "\n",
    "# need return statement so that the function returns the frequency \n",
    "# table instead of none"
   ]
  },
  {
   "cell_type": "markdown",
   "metadata": {},
   "source": [
    "#### Function to sort frequency tables:"
   ]
  },
  {
   "cell_type": "code",
   "execution_count": 33,
   "metadata": {},
   "outputs": [
    {
     "name": "stdout",
     "output_type": "stream",
     "text": [
      "FAMILY : 18.910075595170937\n",
      "GAME : 9.725826469592688\n",
      "TOOLS : 8.462146000225657\n",
      "BUSINESS : 4.592124562789123\n",
      "LIFESTYLE : 3.9038700214374367\n",
      "PRODUCTIVITY : 3.8925871601038025\n",
      "FINANCE : 3.7007785174320205\n",
      "MEDICAL : 3.5315355974275078\n",
      "SPORTS : 3.396141261423897\n",
      "PERSONALIZATION : 3.317161232088458\n",
      "COMMUNICATION : 3.2381812027530184\n",
      "HEALTH_AND_FITNESS : 3.0802211440821394\n",
      "PHOTOGRAPHY : 2.944826808078529\n",
      "NEWS_AND_MAGAZINES : 2.798149610741284\n",
      "SOCIAL : 2.6627552747376737\n",
      "TRAVEL_AND_LOCAL : 2.335552296062281\n",
      "SHOPPING : 2.245289405393208\n",
      "BOOKS_AND_REFERENCE : 2.1437436533904997\n",
      "DATING : 1.8616721200496444\n",
      "VIDEO_PLAYERS : 1.7939749520478394\n",
      "MAPS_AND_NAVIGATION : 1.399074805370642\n",
      "FOOD_AND_DRINK : 1.241114746699763\n",
      "EDUCATION : 1.1621347173643235\n",
      "ENTERTAINMENT : 0.9590432133589079\n",
      "LIBRARIES_AND_DEMO : 0.9364774906916393\n",
      "AUTO_AND_VEHICLES : 0.9251946293580051\n",
      "HOUSE_AND_HOME : 0.8236488773552973\n",
      "WEATHER : 0.8010831546880289\n",
      "EVENTS : 0.7108202640189552\n",
      "PARENTING : 0.6544059573507841\n",
      "ART_AND_DESIGN : 0.6318402346835158\n",
      "COMICS : 0.6205573733498815\n",
      "BEAUTY : 0.5979916506826132\n",
      "\n",
      "\n",
      "Tools : 8.450863138892023\n",
      "Entertainment : 6.070179397495204\n",
      "Education : 5.348076272142616\n",
      "Business : 4.592124562789123\n",
      "Productivity : 3.8925871601038025\n",
      "Lifestyle : 3.8925871601038025\n",
      "Finance : 3.7007785174320205\n",
      "Medical : 3.5315355974275078\n",
      "Sports : 3.463838429425702\n",
      "Personalization : 3.317161232088458\n",
      "Communication : 3.2381812027530184\n",
      "Action : 3.102786866749408\n",
      "Health & Fitness : 3.0802211440821394\n",
      "Photography : 2.944826808078529\n",
      "News & Magazines : 2.798149610741284\n",
      "Social : 2.6627552747376737\n",
      "Travel & Local : 2.324269434728647\n",
      "Shopping : 2.245289405393208\n",
      "Books & Reference : 2.1437436533904997\n",
      "Simulation : 2.042197901387792\n",
      "Dating : 1.8616721200496444\n",
      "Arcade : 1.8503892587160102\n",
      "Video Players & Editors : 1.771409229380571\n",
      "Casual : 1.7601263680469368\n",
      "Maps & Navigation : 1.399074805370642\n",
      "Food & Drink : 1.241114746699763\n",
      "Puzzle : 1.128286133363421\n",
      "Racing : 0.9928917973598104\n",
      "Role Playing : 0.9364774906916393\n",
      "Libraries & Demo : 0.9364774906916393\n",
      "Auto & Vehicles : 0.9251946293580051\n",
      "Strategy : 0.9139117680243709\n",
      "House & Home : 0.8236488773552973\n",
      "Weather : 0.8010831546880289\n",
      "Events : 0.7108202640189552\n",
      "Adventure : 0.6769716800180525\n",
      "Comics : 0.6092745120162473\n",
      "Beauty : 0.5979916506826132\n",
      "Art & Design : 0.5867087893489789\n",
      "Parenting : 0.4964458986799052\n",
      "Card : 0.4513144533453684\n",
      "Casino : 0.42874873067809993\n",
      "Trivia : 0.4174658693444658\n",
      "Educational;Education : 0.3949001466771973\n",
      "Board : 0.38361728534356315\n",
      "Educational : 0.37233442400992894\n",
      "Education;Education : 0.33848584000902626\n",
      "Word : 0.25950581067358686\n",
      "Casual;Pretend Play : 0.2369400880063184\n",
      "Music : 0.20309150400541578\n",
      "Racing;Action & Adventure : 0.16924292000451313\n",
      "Puzzle;Brain Games : 0.16924292000451313\n",
      "Entertainment;Music & Video : 0.16924292000451313\n",
      "Casual;Brain Games : 0.1353943360036105\n",
      "Casual;Action & Adventure : 0.1353943360036105\n",
      "Arcade;Action & Adventure : 0.1241114746699763\n",
      "Action;Action & Adventure : 0.10154575200270789\n",
      "Educational;Pretend Play : 0.09026289066907367\n",
      "Simulation;Action & Adventure : 0.07898002933543948\n",
      "Parenting;Education : 0.07898002933543948\n",
      "Entertainment;Brain Games : 0.07898002933543948\n",
      "Board;Brain Games : 0.07898002933543948\n",
      "Parenting;Music & Video : 0.06769716800180525\n",
      "Educational;Brain Games : 0.06769716800180525\n",
      "Casual;Creativity : 0.06769716800180525\n",
      "Art & Design;Creativity : 0.06769716800180525\n",
      "Education;Pretend Play : 0.05641430666817105\n",
      "Role Playing;Pretend Play : 0.045131445334536835\n",
      "Education;Creativity : 0.045131445334536835\n",
      "Role Playing;Action & Adventure : 0.033848584000902626\n",
      "Puzzle;Action & Adventure : 0.033848584000902626\n",
      "Entertainment;Creativity : 0.033848584000902626\n",
      "Entertainment;Action & Adventure : 0.033848584000902626\n",
      "Educational;Creativity : 0.033848584000902626\n",
      "Educational;Action & Adventure : 0.033848584000902626\n",
      "Education;Music & Video : 0.033848584000902626\n",
      "Education;Brain Games : 0.033848584000902626\n",
      "Education;Action & Adventure : 0.033848584000902626\n",
      "Adventure;Action & Adventure : 0.033848584000902626\n",
      "Video Players & Editors;Music & Video : 0.022565722667268417\n",
      "Sports;Action & Adventure : 0.022565722667268417\n",
      "Simulation;Pretend Play : 0.022565722667268417\n",
      "Puzzle;Creativity : 0.022565722667268417\n",
      "Music;Music & Video : 0.022565722667268417\n",
      "Entertainment;Pretend Play : 0.022565722667268417\n",
      "Casual;Education : 0.022565722667268417\n",
      "Board;Action & Adventure : 0.022565722667268417\n",
      "Video Players & Editors;Creativity : 0.011282861333634209\n",
      "Trivia;Education : 0.011282861333634209\n",
      "Travel & Local;Action & Adventure : 0.011282861333634209\n",
      "Tools;Education : 0.011282861333634209\n",
      "Strategy;Education : 0.011282861333634209\n",
      "Strategy;Creativity : 0.011282861333634209\n",
      "Strategy;Action & Adventure : 0.011282861333634209\n",
      "Simulation;Education : 0.011282861333634209\n",
      "Role Playing;Brain Games : 0.011282861333634209\n",
      "Racing;Pretend Play : 0.011282861333634209\n",
      "Puzzle;Education : 0.011282861333634209\n",
      "Parenting;Brain Games : 0.011282861333634209\n",
      "Music & Audio;Music & Video : 0.011282861333634209\n",
      "Lifestyle;Pretend Play : 0.011282861333634209\n",
      "Lifestyle;Education : 0.011282861333634209\n",
      "Health & Fitness;Education : 0.011282861333634209\n",
      "Health & Fitness;Action & Adventure : 0.011282861333634209\n",
      "Entertainment;Education : 0.011282861333634209\n",
      "Communication;Creativity : 0.011282861333634209\n",
      "Comics;Creativity : 0.011282861333634209\n",
      "Casual;Music & Video : 0.011282861333634209\n",
      "Card;Action & Adventure : 0.011282861333634209\n",
      "Books & Reference;Education : 0.011282861333634209\n",
      "Art & Design;Pretend Play : 0.011282861333634209\n",
      "Art & Design;Action & Adventure : 0.011282861333634209\n",
      "Arcade;Pretend Play : 0.011282861333634209\n",
      "Adventure;Education : 0.011282861333634209\n",
      "\n",
      "\n",
      "Games : 58.16263190564867\n",
      "Entertainment : 7.883302296710118\n",
      "Photo & Video : 4.9658597144630665\n",
      "Education : 3.662321539416512\n",
      "Social Networking : 3.2898820608317814\n",
      "Shopping : 2.60707635009311\n",
      "Utilities : 2.5139664804469275\n",
      "Sports : 2.1415270018621975\n",
      "Music : 2.0484171322160147\n",
      "Health & Fitness : 2.0173805090006205\n",
      "Productivity : 1.7380509000620732\n",
      "Lifestyle : 1.5828677839851024\n",
      "News : 1.3345747982619491\n",
      "Travel : 1.2414649286157666\n",
      "Finance : 1.1173184357541899\n",
      "Weather : 0.8690254500310366\n",
      "Food & Drink : 0.8069522036002483\n",
      "Reference : 0.5586592178770949\n",
      "Business : 0.5276225946617008\n",
      "Book : 0.4345127250155183\n",
      "Navigation : 0.186219739292365\n",
      "Medical : 0.186219739292365\n",
      "Catalogs : 0.12414649286157665\n"
     ]
    }
   ],
   "source": [
    "def display_table(dataset, index):\n",
    "    ftable = freq_table(dataset, index)\n",
    "    ftable_display = []\n",
    "    for key in ftable:\n",
    "        key_val_as_tuple = (ftable[key], key)\n",
    "        ftable_display.append(key_val_as_tuple)\n",
    "\n",
    "    table_sorted = sorted(ftable_display, reverse = True)\n",
    "    for entry in table_sorted:\n",
    "        print(entry[1], ':', entry[0])\n",
    "        \n",
    "display_table(googleplay_final, 1)\n",
    "print(\"\\n\")\n",
    "display_table(googleplay_final, 9)\n",
    "print(\"\\n\")\n",
    "display_table(applestore_final, 11)"
   ]
  },
  {
   "cell_type": "markdown",
   "metadata": {},
   "source": [
    "### Applestore Analysis:\n",
    "\n",
    "Upon analyzing the frequency table for the prime_genre column in the App Store dataset, several patterns emerge:\n",
    "\n",
    "* The most prevalent genre among the free English apps is \"Games,\" with a count of 1874. This genre dominates the market by a substantial margin.\n",
    "* Following games, the next most common genres are \"Entertainment\" with 254 apps and \"Photo & Video\" with 160 apps, although they are significantly less prevalent compared to games.\n",
    "* The majority of the app profiles in the dataset appear to be designed for entertainment purposes, encompassing gaming, photo and video editing, and social networking.\n",
    "* Genres focused on practical purposes, such as education, shopping, utilities, productivity, lifestyle, and health & fitness, also demonstrate a notable presence, albeit to a lesser extent than entertainment genres.\n",
    "* Genres like weather, finance, food & drink, reference, business, and travel exhibit a relatively smaller number of apps, indicating a more niche market segment.\n",
    "\n",
    "Based solely on this frequency table, it would be smart to consider developing an app profile that aligns with the dominant genres, particularly games or entertainment-related offerings. However, it is essential to note that the high number of apps within a genre does not guarantee a corresponding large user base. Further analysis is required to assess user engagement, competition, and overall market demand before making a conclusive recommendation for an app profile."
   ]
  },
  {
   "cell_type": "markdown",
   "metadata": {},
   "source": [
    "### Googleplay Store Analysis\n",
    "\n",
    "Based on the frequency tables generated for the Category and Genres columns in the Google Play dataset, we can observe the following patterns:\n",
    "\n",
    "##### Most common genres in the Google Play market (Category):\n",
    "\n",
    "* \"Family\" is the most common category, with 1676 apps.\n",
    "* Following \"Family,\" the next most common categories are \"Game\" (862 apps) and \"Tools\" (750 apps).\n",
    "* Other prevalent categories include \"Business,\" \"Lifestyle,\" \"Productivity,\" and \"Finance.\"\n",
    "\n",
    "##### Most common genres in the Google Play market (Genres):\n",
    "\n",
    "* The most common genre is \"Tools\" with 749 apps.\n",
    "* Other prominent genres include \"Entertainment,\" \"Education,\" \"Business,\" and \"Productivity.\"\n",
    "* We also observe a variety of genres such as \"Sports,\" \"Communication,\" \"Health & Fitness,\" \"Photography,\" and \"News & Magazines.\"\n",
    "\n",
    "#### Comparison with the Applestore market:\n",
    "\n",
    "In the Applestore, the dominant genre is \"Games,\" while the Google Play market shows a more diverse range of genres, including \"Family,\" \"Tools,\" \"Entertainment,\" and \"Education.\"\n",
    "The Google Play market appears to have a broader selection of categories and genres compared to the App Store, which is more focused on entertainment genres.\n",
    "\n",
    "#### App profile recommendation\n",
    "Based on the frequency tables alone, we could consider developing a family-oriented app or a tool/utility app for the Google Play market. However, it is important to note that the frequency tables reveal the most common genres, but they do not directly indicate the number of users. Further analysis is required to understand user engagement, competition, and market demand to make a more informed recommendation for an app profile."
   ]
  },
  {
   "cell_type": "markdown",
   "metadata": {},
   "source": [
    "### Decoding Genre Popularity: User Rating Analysis\n",
    "\n",
    "To determine the most popular genres based on user ratings, the analysis involves calculating the average number of user ratings per app genre on the App Store. As the installation data is not available, the total number of user ratings will be used as a substitute.\n",
    "\n",
    "To calculate the average number of user ratings per genre, a nested loop structure will be utilized to group the apps by genre, accumulate the user ratings, and divide the total ratings by the number of apps in each genre (yielding the average)."
   ]
  },
  {
   "cell_type": "code",
   "execution_count": 19,
   "metadata": {
    "scrolled": true
   },
   "outputs": [
    {
     "name": "stdout",
     "output_type": "stream",
     "text": [
      "Social Networking : 71548.34905660378\n",
      "Photo & Video : 28441.54375\n",
      "Games : 22788.6696905016\n",
      "Music : 57326.530303030304\n",
      "Reference : 74942.11111111111\n",
      "Health & Fitness : 23298.015384615384\n",
      "Weather : 52279.892857142855\n",
      "Utilities : 18684.456790123455\n",
      "Travel : 28243.8\n",
      "Shopping : 26919.690476190477\n",
      "News : 21248.023255813954\n",
      "Navigation : 86090.33333333333\n",
      "Lifestyle : 16485.764705882353\n",
      "Entertainment : 14029.830708661417\n",
      "Food & Drink : 33333.92307692308\n",
      "Sports : 23008.898550724636\n",
      "Book : 39758.5\n",
      "Finance : 31467.944444444445\n",
      "Education : 7003.983050847458\n",
      "Productivity : 21028.410714285714\n",
      "Business : 7491.117647058823\n",
      "Catalogs : 4004.0\n",
      "Medical : 612.0\n"
     ]
    }
   ],
   "source": [
    "genres_applestore = freq_table(applestore_final, 11)\n",
    "\n",
    "for genre in genres_applestore:\n",
    "    total_ratings = 0\n",
    "    len_genre = 0\n",
    "    \n",
    "    for app in applestore_final:\n",
    "        app_genre = app[11]\n",
    "        \n",
    "        \n",
    "        if genre == app_genre:\n",
    "            total_ratings += float(app[5])\n",
    "            len_genre += 1\n",
    "            \n",
    "    avg_ratings = total_ratings / len_genre\n",
    "    print(genre, \":\", avg_ratings)"
   ]
  },
  {
   "cell_type": "markdown",
   "metadata": {},
   "source": [
    "Based on the average number of user ratings, genres like \"Navigation,\" \"Reference,\" \"Music,\" and \"Weather\" exhibit high user engagement in the App Store. Among these, the **\"Reference\" genre**, with an average of 74,942 user ratings per app, stands out as a **promising app profile recommendation**. Developing an educational or informative app in this genre could tap into its popularity and meet user demand. Further market research is advised to validate this recommendation and consider factors like competition and target audience."
   ]
  },
  {
   "cell_type": "code",
   "execution_count": 43,
   "metadata": {},
   "outputs": [
    {
     "name": "stdout",
     "output_type": "stream",
     "text": [
      "ART_AND_DESIGN : 2021626.7857142857\n",
      "AUTO_AND_VEHICLES : 647317.8170731707\n",
      "BEAUTY : 513151.88679245283\n",
      "BOOKS_AND_REFERENCE : 8767811.894736841\n",
      "BUSINESS : 1712290.1474201474\n",
      "COMICS : 817657.2727272727\n",
      "COMMUNICATION : 38456119.167247385\n",
      "DATING : 854028.8303030303\n",
      "EDUCATION : 1833495.145631068\n",
      "ENTERTAINMENT : 11640705.88235294\n",
      "EVENTS : 253542.22222222222\n",
      "FINANCE : 1387692.475609756\n",
      "FOOD_AND_DRINK : 1924897.7363636363\n",
      "HEALTH_AND_FITNESS : 4188821.9853479853\n",
      "HOUSE_AND_HOME : 1331540.5616438356\n",
      "LIBRARIES_AND_DEMO : 638503.734939759\n",
      "LIFESTYLE : 1437816.2687861272\n",
      "GAME : 15588015.603248259\n",
      "FAMILY : 3695641.8198090694\n",
      "MEDICAL : 120550.61980830671\n",
      "SOCIAL : 23253652.127118643\n",
      "SHOPPING : 7036877.311557789\n",
      "PHOTOGRAPHY : 17840110.40229885\n",
      "SPORTS : 3638640.1428571427\n",
      "TRAVEL_AND_LOCAL : 13984077.710144928\n",
      "TOOLS : 10801391.298666667\n",
      "PERSONALIZATION : 5201482.6122448975\n",
      "PRODUCTIVITY : 16787331.344927534\n",
      "PARENTING : 542603.6206896552\n",
      "WEATHER : 5074486.197183099\n",
      "VIDEO_PLAYERS : 24727872.452830188\n",
      "NEWS_AND_MAGAZINES : 9549178.467741935\n",
      "MAPS_AND_NAVIGATION : 4056941.7741935486\n"
     ]
    }
   ],
   "source": [
    "googleplay_categories = freq_table(googleplay_final, 1)\n",
    "\n",
    "for category in googleplay_categories:\n",
    "    total_installs = 0\n",
    "    len_category = 0\n",
    "    \n",
    "    for app in googleplay_final:\n",
    "        app_category = app[1]\n",
    "        \n",
    "        \n",
    "        if category == app_category:\n",
    "            installs = float(app[5].replace(\"+\", \"\").replace(\",\", \"\"))\n",
    "            \n",
    "            total_installs += installs           \n",
    "            len_category += 1\n",
    "            \n",
    "    avg_installs = total_installs / len_category\n",
    "    print(category, \":\", avg_installs)"
   ]
  },
  {
   "cell_type": "markdown",
   "metadata": {},
   "source": [
    "### App Genre Popularity Analysis: Insights from Installs\n",
    "\n",
    "After analyzing the average number of installs per app genre on Google Play, we can derive the following insights:\n",
    "\n",
    "* **Communication and social networking apps** demonstrate the **highest average installs**, indicating a **substantial user base and potential profitability**.\n",
    "* Genres like photography, video players, and entertainment also exhibit significant popularity, with millions of average installs.\n",
    "* Categories such as books and reference, education, and productivity show promising average install figures, suggesting opportunities for profitable app profiles.\n",
    "\n",
    "Based on these findings, developing a **communication or social networking app appears to be a recommended app profile** for Google Play. These genres offer a wide user reach and a consistent demand for innovative applications. However, further market research, competitor analysis, and consideration of user preferences are essential to ensure a successful app profile aligned with market trends and potential profitability."
   ]
  }
 ],
 "metadata": {
  "kernelspec": {
   "display_name": "Python 3",
   "language": "python",
   "name": "python3"
  },
  "language_info": {
   "codemirror_mode": {
    "name": "ipython",
    "version": 3
   },
   "file_extension": ".py",
   "mimetype": "text/x-python",
   "name": "python",
   "nbconvert_exporter": "python",
   "pygments_lexer": "ipython3",
   "version": "3.8.2"
  }
 },
 "nbformat": 4,
 "nbformat_minor": 2
}
